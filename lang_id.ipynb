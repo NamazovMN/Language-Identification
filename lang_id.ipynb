{
  "nbformat": 4,
  "nbformat_minor": 0,
  "metadata": {
    "colab": {
      "private_outputs": true,
      "provenance": [],
      "gpuType": "T4"
    },
    "kernelspec": {
      "name": "python3",
      "display_name": "Python 3"
    },
    "language_info": {
      "name": "python"
    },
    "accelerator": "GPU"
  },
  "cells": [
    {
      "cell_type": "code",
      "execution_count": null,
      "metadata": {
        "id": "2THL5TU5_0TN"
      },
      "outputs": [],
      "source": [
        "import os\n",
        "from google.colab import drive\n",
        "drive.mount('/content/drive')\n",
        "\n",
        "main_directory = os.path.join('drive/MyDrive/Colab Notebooks/projects/lang_id')"
      ]
    },
    {
      "cell_type": "code",
      "source": [
        "def check_dir(directory):\n",
        "    if not os.path.exists(directory):\n",
        "        os.makedirs(directory)\n",
        "check_dir(main_directory)\n",
        "%cd drive/MyDrive/Colab Notebooks/projects/lang_id"
      ],
      "metadata": {
        "id": "u-RSHJX4__6U"
      },
      "execution_count": null,
      "outputs": []
    },
    {
      "cell_type": "code",
      "source": [
        "!git clone https://github.com/NamazovMN/Language-Identification.git"
      ],
      "metadata": {
        "id": "KeG9rYJ0AEZy"
      },
      "execution_count": null,
      "outputs": []
    },
    {
      "cell_type": "code",
      "source": [
        "%cd Language-Identification"
      ],
      "metadata": {
        "id": "aypErHPjAG9D"
      },
      "execution_count": null,
      "outputs": []
    },
    {
      "cell_type": "code",
      "source": [
        "!pip install -r requirements.txt"
      ],
      "metadata": {
        "id": "zuGcyOUKAIdU"
      },
      "execution_count": null,
      "outputs": []
    },
    {
      "cell_type": "markdown",
      "source": [
        "# Guidelines\n",
        "Before starting the training please choose such experiment number that does not exist. Github Repo includes results files but not models. Loading is done based on those files.\n",
        "\n",
        "Easy fix: Remove all folders, they will be generated automatically for chosen experiment."
      ],
      "metadata": {
        "id": "cGYkaVL0HyOl"
      }
    },
    {
      "cell_type": "code",
      "source": [
        "!python main.py --train --experiment_num 3 --epochs 3"
      ],
      "metadata": {
        "id": "lCrtngYbAM-F"
      },
      "execution_count": null,
      "outputs": []
    },
    {
      "cell_type": "markdown",
      "source": [
        "Trained experiemnt number was chosen, which is 3. Epoch coice was set to that number and the load_best was not set. Thus the chosen epoch will be loaded for inference."
      ],
      "metadata": {
        "id": "3C4_yrj4PGIr"
      }
    },
    {
      "cell_type": "code",
      "source": [
        "!python main.py --infer --epoch_choice 3 --experiment_num 3"
      ],
      "metadata": {
        "id": "1aVVYXj6FeqQ"
      },
      "execution_count": null,
      "outputs": []
    },
    {
      "cell_type": "markdown",
      "source": [
        "Same experiment number was chosen. This time we set load_best, so that the best choice will be chosen. Notice that we did not specify wrt what the best choice is decided. Thus, by default f1_score was chosen for inference."
      ],
      "metadata": {
        "id": "gm80rK8BPaDi"
      }
    },
    {
      "cell_type": "code",
      "source": [
        "!python main.py --infer --load_best --experiment_num 3"
      ],
      "metadata": {
        "id": "y9j4r7Z7Kgvb"
      },
      "execution_count": null,
      "outputs": []
    },
    {
      "cell_type": "markdown",
      "source": [
        "This example is for resume training. Resume training must be set with train parameter, otherwise train session will not be activated. resume_training is activated within training session. Remember number of epochs was set 3 previously, now we set it to 5. Thus, 2 more epochs are expected to be passed."
      ],
      "metadata": {
        "id": "jTXvyJCTPzan"
      }
    },
    {
      "cell_type": "code",
      "source": [
        "!python main.py --train --resume_training --epochs 5 --experiment_num 3"
      ],
      "metadata": {
        "id": "DFCgwAO3Limt"
      },
      "execution_count": null,
      "outputs": []
    },
    {
      "cell_type": "markdown",
      "source": [
        "Example for failure: input_data folder is empty. That is why, we get such error. If we check the message, it says:\n",
        "\n",
        "*Make sure there is input_text.txt file in the input_data folder!*"
      ],
      "metadata": {
        "id": "9ME9ous0Qd2o"
      }
    },
    {
      "cell_type": "code",
      "source": [
        "!python main.py --infer --from_file --load_best --experiment 3"
      ],
      "metadata": {
        "id": "xixjLkJIQSZt"
      },
      "execution_count": null,
      "outputs": []
    },
    {
      "cell_type": "markdown",
      "source": [
        "Now we uploaded input_text.txt with some text. Let's see which language the text was written:"
      ],
      "metadata": {
        "id": "BeOWU870RdQy"
      }
    },
    {
      "cell_type": "code",
      "source": [
        "!python main.py --infer --from_file --load_best --experiment 3"
      ],
      "metadata": {
        "id": "Exb17zYOQ1tt"
      },
      "execution_count": null,
      "outputs": []
    },
    {
      "cell_type": "markdown",
      "source": [
        "This example is for the specific case: when epoch choice and load best were set together. And let's make specific choice dev_loss this time, which stands for validation loss. In this case, the epoch with the minimum validation loss will be chosen and we will get the following warning of redundant entry, epoch_choice. Notice that load_best has priority!\n",
        "\n",
        "Note: Please be sure you changed  choice option as follows in the main.py, when inference object is initialized:\n",
        "\n",
        "from:\n",
        "\n",
        "`choice=project_parameters['choice'],`\n",
        "\n",
        "into\n",
        "    \n",
        "`choice=project_parameters['load_choice'],`\n",
        "\n",
        "We missed that part when we added files to github.\n",
        "Rest parameters will remain as in previous example."
      ],
      "metadata": {
        "id": "q8F4L27SR8YE"
      }
    },
    {
      "cell_type": "code",
      "source": [
        "!python main.py --infer --from_file --load_best --experiment 3 --epoch_choice 4 --load_choice dev_loss"
      ],
      "metadata": {
        "id": "4ivyuxMWR45c"
      },
      "execution_count": null,
      "outputs": []
    },
    {
      "cell_type": "markdown",
      "source": [
        "I hope you will enjoy the playground!\n",
        "\n",
        "Best Regards,\n",
        "\n",
        "Mahammad Namazov"
      ],
      "metadata": {
        "id": "vCosnE6KT_-Z"
      }
    }
  ]
}